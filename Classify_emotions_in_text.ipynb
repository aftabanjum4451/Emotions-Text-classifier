{
  "nbformat": 4,
  "nbformat_minor": 0,
  "metadata": {
    "colab": {
      "name": "Classify-emotions-in-text.ipynb",
      "provenance": [],
      "collapsed_sections": []
    },
    "kernelspec": {
      "name": "python3",
      "display_name": "Python 3"
    },
    "language_info": {
      "name": "python"
    },
    "accelerator": "GPU"
  },
  "cells": [
    {
      "cell_type": "code",
      "metadata": {
        "colab": {
          "base_uri": "https://localhost:8080/"
        },
        "id": "ISYV-crt5dyd",
        "outputId": "3a29176d-bd8b-40f2-d78f-5d8a47f35a0d"
      },
      "source": [
        "from google.colab import drive\n",
        "drive.mount(\"/content/gdrive\")"
      ],
      "execution_count": null,
      "outputs": [
        {
          "output_type": "stream",
          "text": [
            "Mounted at /content/gdrive\n"
          ],
          "name": "stdout"
        }
      ]
    },
    {
      "cell_type": "code",
      "metadata": {
        "colab": {
          "base_uri": "https://localhost:8080/"
        },
        "id": "NYx3AmDCAfuH",
        "outputId": "f11bcd1d-b9cc-4ce5-dfa6-72c2500e177d"
      },
      "source": [
        "import numpy as np\n",
        "import pandas as pd\n",
        "import seaborn as sns\n",
        "from matplotlib import pyplot as plt\n",
        "import re\n",
        "import nltk\n",
        "nltk.download('punkt')\n",
        "nltk.download('stopwords')\n",
        "nltk.download('wordnet')\n",
        "from nltk.corpus import stopwords\n",
        "from nltk.corpus import wordnet\n",
        "from nltk.stem import WordNetLemmatizer\n",
        "lemmatizer = WordNetLemmatizer() \n",
        "from keras.preprocessing.text import Tokenizer"
      ],
      "execution_count": null,
      "outputs": [
        {
          "output_type": "stream",
          "text": [
            "[nltk_data] Downloading package punkt to /root/nltk_data...\n",
            "[nltk_data]   Unzipping tokenizers/punkt.zip.\n",
            "[nltk_data] Downloading package stopwords to /root/nltk_data...\n",
            "[nltk_data]   Unzipping corpora/stopwords.zip.\n",
            "[nltk_data] Downloading package wordnet to /root/nltk_data...\n",
            "[nltk_data]   Unzipping corpora/wordnet.zip.\n"
          ],
          "name": "stdout"
        }
      ]
    },
    {
      "cell_type": "code",
      "metadata": {
        "colab": {
          "base_uri": "https://localhost:8080/",
          "height": 204
        },
        "id": "OaivAo3_532X",
        "outputId": "8d316316-6bad-4739-d58f-8cb4edd25e6b"
      },
      "source": [
        "import pandas as pd\n",
        "df_train = pd.read_csv(\"/content/gdrive/MyDrive/NLP projects/NLP sentiment_emotional_clasifier/train_file.csv\",header=None)\n",
        "df_test = pd.read_csv(\"/content/gdrive/MyDrive/NLP projects/NLP sentiment_emotional_clasifier/test_file.csv\",header=None)\n",
        "df_train.head()"
      ],
      "execution_count": null,
      "outputs": [
        {
          "output_type": "execute_result",
          "data": {
            "text/html": [
              "<div>\n",
              "<style scoped>\n",
              "    .dataframe tbody tr th:only-of-type {\n",
              "        vertical-align: middle;\n",
              "    }\n",
              "\n",
              "    .dataframe tbody tr th {\n",
              "        vertical-align: top;\n",
              "    }\n",
              "\n",
              "    .dataframe thead th {\n",
              "        text-align: right;\n",
              "    }\n",
              "</style>\n",
              "<table border=\"1\" class=\"dataframe\">\n",
              "  <thead>\n",
              "    <tr style=\"text-align: right;\">\n",
              "      <th></th>\n",
              "      <th>0</th>\n",
              "      <th>1</th>\n",
              "    </tr>\n",
              "  </thead>\n",
              "  <tbody>\n",
              "    <tr>\n",
              "      <th>0</th>\n",
              "      <td>i didnt feel humiliated</td>\n",
              "      <td>sadness</td>\n",
              "    </tr>\n",
              "    <tr>\n",
              "      <th>1</th>\n",
              "      <td>i can go from feeling so hopeless to so damned...</td>\n",
              "      <td>sadness</td>\n",
              "    </tr>\n",
              "    <tr>\n",
              "      <th>2</th>\n",
              "      <td>im grabbing a minute to post i feel greedy wrong</td>\n",
              "      <td>anger</td>\n",
              "    </tr>\n",
              "    <tr>\n",
              "      <th>3</th>\n",
              "      <td>i am ever feeling nostalgic about the fireplac...</td>\n",
              "      <td>love</td>\n",
              "    </tr>\n",
              "    <tr>\n",
              "      <th>4</th>\n",
              "      <td>i am feeling grouchy</td>\n",
              "      <td>anger</td>\n",
              "    </tr>\n",
              "  </tbody>\n",
              "</table>\n",
              "</div>"
            ],
            "text/plain": [
              "                                                   0        1\n",
              "0                            i didnt feel humiliated  sadness\n",
              "1  i can go from feeling so hopeless to so damned...  sadness\n",
              "2   im grabbing a minute to post i feel greedy wrong    anger\n",
              "3  i am ever feeling nostalgic about the fireplac...     love\n",
              "4                               i am feeling grouchy    anger"
            ]
          },
          "metadata": {
            "tags": []
          },
          "execution_count": 21
        }
      ]
    },
    {
      "cell_type": "markdown",
      "metadata": {
        "id": "Nc5104im_BB5"
      },
      "source": [
        "# Data Exploration & Data Cleaning"
      ]
    },
    {
      "cell_type": "code",
      "metadata": {
        "colab": {
          "base_uri": "https://localhost:8080/",
          "height": 204
        },
        "id": "UXipd9S_53y1",
        "outputId": "3ae7eb7b-da8d-4d81-903f-fc9409808cad"
      },
      "source": [
        "df_train.columns=['text','sentiment']\n",
        "df_test.columns=['text','sentiment']\n",
        "df_train.head()"
      ],
      "execution_count": null,
      "outputs": [
        {
          "output_type": "execute_result",
          "data": {
            "text/html": [
              "<div>\n",
              "<style scoped>\n",
              "    .dataframe tbody tr th:only-of-type {\n",
              "        vertical-align: middle;\n",
              "    }\n",
              "\n",
              "    .dataframe tbody tr th {\n",
              "        vertical-align: top;\n",
              "    }\n",
              "\n",
              "    .dataframe thead th {\n",
              "        text-align: right;\n",
              "    }\n",
              "</style>\n",
              "<table border=\"1\" class=\"dataframe\">\n",
              "  <thead>\n",
              "    <tr style=\"text-align: right;\">\n",
              "      <th></th>\n",
              "      <th>text</th>\n",
              "      <th>sentiment</th>\n",
              "    </tr>\n",
              "  </thead>\n",
              "  <tbody>\n",
              "    <tr>\n",
              "      <th>0</th>\n",
              "      <td>i didnt feel humiliated</td>\n",
              "      <td>sadness</td>\n",
              "    </tr>\n",
              "    <tr>\n",
              "      <th>1</th>\n",
              "      <td>i can go from feeling so hopeless to so damned...</td>\n",
              "      <td>sadness</td>\n",
              "    </tr>\n",
              "    <tr>\n",
              "      <th>2</th>\n",
              "      <td>im grabbing a minute to post i feel greedy wrong</td>\n",
              "      <td>anger</td>\n",
              "    </tr>\n",
              "    <tr>\n",
              "      <th>3</th>\n",
              "      <td>i am ever feeling nostalgic about the fireplac...</td>\n",
              "      <td>love</td>\n",
              "    </tr>\n",
              "    <tr>\n",
              "      <th>4</th>\n",
              "      <td>i am feeling grouchy</td>\n",
              "      <td>anger</td>\n",
              "    </tr>\n",
              "  </tbody>\n",
              "</table>\n",
              "</div>"
            ],
            "text/plain": [
              "                                                text sentiment\n",
              "0                            i didnt feel humiliated   sadness\n",
              "1  i can go from feeling so hopeless to so damned...   sadness\n",
              "2   im grabbing a minute to post i feel greedy wrong     anger\n",
              "3  i am ever feeling nostalgic about the fireplac...      love\n",
              "4                               i am feeling grouchy     anger"
            ]
          },
          "metadata": {
            "tags": []
          },
          "execution_count": 22
        }
      ]
    },
    {
      "cell_type": "code",
      "metadata": {
        "colab": {
          "base_uri": "https://localhost:8080/"
        },
        "id": "jk2pbkQ953ty",
        "outputId": "361a167c-09a4-4af1-c3ed-e940991a810a"
      },
      "source": [
        "df_train.sentiment.unique()"
      ],
      "execution_count": null,
      "outputs": [
        {
          "output_type": "execute_result",
          "data": {
            "text/plain": [
              "array(['sadness', 'anger', 'love', 'surprise', 'fear', 'joy'],\n",
              "      dtype=object)"
            ]
          },
          "metadata": {
            "tags": []
          },
          "execution_count": 23
        }
      ]
    },
    {
      "cell_type": "code",
      "metadata": {
        "colab": {
          "base_uri": "https://localhost:8080/",
          "height": 404
        },
        "id": "LjkwlYAD53k5",
        "outputId": "886b9bfc-e82d-46e9-d613-2794dc75d7da"
      },
      "source": [
        "#check the class distribution\n",
        "sns.set_theme(style=\"darkgrid\")\n",
        "ax = sns.countplot(x='sentiment', hue=\"sentiment\", data=df_train)\n",
        "df_train.sentiment.value_counts()"
      ],
      "execution_count": null,
      "outputs": [
        {
          "output_type": "execute_result",
          "data": {
            "text/plain": [
              "joy         5362\n",
              "sadness     4666\n",
              "anger       2159\n",
              "fear        1937\n",
              "love        1304\n",
              "surprise     572\n",
              "Name: sentiment, dtype: int64"
            ]
          },
          "metadata": {
            "tags": []
          },
          "execution_count": 24
        },
        {
          "output_type": "display_data",
          "data": {
            "image/png": "[encoded data removed]",
            "text/plain": [
              "<Figure size 432x288 with 1 Axes>"
            ]
          },
          "metadata": {
            "tags": []
          }
        }
      ]
    },
    {
      "cell_type": "code",
      "metadata": {
        "id": "MYQyQILUCKkK"
      },
      "source": [
        "# Remove the not word from the stop words\n",
        "stoplist = set(stopwords.words(\"english\"))\n",
        "stoplist.remove('not')"
      ],
      "execution_count": null,
      "outputs": []
    },
    {
      "cell_type": "code",
      "metadata": {
        "id": "p1Uup8SWAHLk"
      },
      "source": [
        "def data_pre_processing(data):\n",
        "  corpus = []\n",
        "  for i in range(len(data)):\n",
        "      review = re.sub('[^a-zA-Z]', ' ', data[i])\n",
        "      review = review.lower()\n",
        "      review = review.split()\n",
        "      #review = [word for word in review if word not in stopwords.words('english')]\n",
        "      review = [lemmatizer.lemmatize(word) for word in review if not word in stoplist]\n",
        "      review = ' '.join(review)\n",
        "      corpus.append(review)\n",
        "  return corpus\n",
        "process_data_train=data_pre_processing(df_train['text'].values)\n",
        "process_data_text=data_pre_processing(df_test['text'].values)\n"
      ],
      "execution_count": null,
      "outputs": []
    },
    {
      "cell_type": "code",
      "metadata": {
        "colab": {
          "base_uri": "https://localhost:8080/",
          "height": 204
        },
        "id": "M8PL2os8AJE1",
        "outputId": "00447aa3-22db-4b3e-fc70-7028f4154f78"
      },
      "source": [
        "df_train.insert(1, \"clean text\", pd.DataFrame(process_data_train), True)\n",
        "df_test.insert(1, \"clean text\", pd.DataFrame(process_data_text), True)\n",
        "df_train.head()"
      ],
      "execution_count": null,
      "outputs": [
        {
          "output_type": "execute_result",
          "data": {
            "text/html": [
              "<div>\n",
              "<style scoped>\n",
              "    .dataframe tbody tr th:only-of-type {\n",
              "        vertical-align: middle;\n",
              "    }\n",
              "\n",
              "    .dataframe tbody tr th {\n",
              "        vertical-align: top;\n",
              "    }\n",
              "\n",
              "    .dataframe thead th {\n",
              "        text-align: right;\n",
              "    }\n",
              "</style>\n",
              "<table border=\"1\" class=\"dataframe\">\n",
              "  <thead>\n",
              "    <tr style=\"text-align: right;\">\n",
              "      <th></th>\n",
              "      <th>text</th>\n",
              "      <th>clean text</th>\n",
              "      <th>sentiment</th>\n",
              "    </tr>\n",
              "  </thead>\n",
              "  <tbody>\n",
              "    <tr>\n",
              "      <th>0</th>\n",
              "      <td>i didnt feel humiliated</td>\n",
              "      <td>didnt feel humiliated</td>\n",
              "      <td>sadness</td>\n",
              "    </tr>\n",
              "    <tr>\n",
              "      <th>1</th>\n",
              "      <td>i can go from feeling so hopeless to so damned...</td>\n",
              "      <td>go feeling hopeless damned hopeful around some...</td>\n",
              "      <td>sadness</td>\n",
              "    </tr>\n",
              "    <tr>\n",
              "      <th>2</th>\n",
              "      <td>im grabbing a minute to post i feel greedy wrong</td>\n",
              "      <td>im grabbing minute post feel greedy wrong</td>\n",
              "      <td>anger</td>\n",
              "    </tr>\n",
              "    <tr>\n",
              "      <th>3</th>\n",
              "      <td>i am ever feeling nostalgic about the fireplac...</td>\n",
              "      <td>ever feeling nostalgic fireplace know still pr...</td>\n",
              "      <td>love</td>\n",
              "    </tr>\n",
              "    <tr>\n",
              "      <th>4</th>\n",
              "      <td>i am feeling grouchy</td>\n",
              "      <td>feeling grouchy</td>\n",
              "      <td>anger</td>\n",
              "    </tr>\n",
              "  </tbody>\n",
              "</table>\n",
              "</div>"
            ],
            "text/plain": [
              "                                                text  ... sentiment\n",
              "0                            i didnt feel humiliated  ...   sadness\n",
              "1  i can go from feeling so hopeless to so damned...  ...   sadness\n",
              "2   im grabbing a minute to post i feel greedy wrong  ...     anger\n",
              "3  i am ever feeling nostalgic about the fireplac...  ...      love\n",
              "4                               i am feeling grouchy  ...     anger\n",
              "\n",
              "[5 rows x 3 columns]"
            ]
          },
          "metadata": {
            "tags": []
          },
          "execution_count": 27
        }
      ]
    },
    {
      "cell_type": "code",
      "metadata": {
        "colab": {
          "base_uri": "https://localhost:8080/",
          "height": 204
        },
        "id": "nZcYq4ryAJBX",
        "outputId": "f099b8e8-9d35-44b1-b623-db91f62a319d"
      },
      "source": [
        "df_train.drop(['text'], axis=1,inplace=True)\n",
        "df_test.drop(['text'], axis=1,inplace=True)\n",
        "df_test.head()"
      ],
      "execution_count": null,
      "outputs": [
        {
          "output_type": "execute_result",
          "data": {
            "text/html": [
              "<div>\n",
              "<style scoped>\n",
              "    .dataframe tbody tr th:only-of-type {\n",
              "        vertical-align: middle;\n",
              "    }\n",
              "\n",
              "    .dataframe tbody tr th {\n",
              "        vertical-align: top;\n",
              "    }\n",
              "\n",
              "    .dataframe thead th {\n",
              "        text-align: right;\n",
              "    }\n",
              "</style>\n",
              "<table border=\"1\" class=\"dataframe\">\n",
              "  <thead>\n",
              "    <tr style=\"text-align: right;\">\n",
              "      <th></th>\n",
              "      <th>clean text</th>\n",
              "      <th>sentiment</th>\n",
              "    </tr>\n",
              "  </thead>\n",
              "  <tbody>\n",
              "    <tr>\n",
              "      <th>0</th>\n",
              "      <td>im feeling rather rotten im not ambitious right</td>\n",
              "      <td>sadness</td>\n",
              "    </tr>\n",
              "    <tr>\n",
              "      <th>1</th>\n",
              "      <td>im updating blog feel shitty</td>\n",
              "      <td>sadness</td>\n",
              "    </tr>\n",
              "    <tr>\n",
              "      <th>2</th>\n",
              "      <td>never make separate ever want feel like ashamed</td>\n",
              "      <td>sadness</td>\n",
              "    </tr>\n",
              "    <tr>\n",
              "      <th>3</th>\n",
              "      <td>left bouquet red yellow tulip arm feeling slig...</td>\n",
              "      <td>joy</td>\n",
              "    </tr>\n",
              "    <tr>\n",
              "      <th>4</th>\n",
              "      <td>feeling little vain one</td>\n",
              "      <td>sadness</td>\n",
              "    </tr>\n",
              "  </tbody>\n",
              "</table>\n",
              "</div>"
            ],
            "text/plain": [
              "                                          clean text sentiment\n",
              "0    im feeling rather rotten im not ambitious right   sadness\n",
              "1                       im updating blog feel shitty   sadness\n",
              "2    never make separate ever want feel like ashamed   sadness\n",
              "3  left bouquet red yellow tulip arm feeling slig...       joy\n",
              "4                            feeling little vain one   sadness"
            ]
          },
          "metadata": {
            "tags": []
          },
          "execution_count": 28
        }
      ]
    },
    {
      "cell_type": "code",
      "metadata": {
        "colab": {
          "base_uri": "https://localhost:8080/"
        },
        "id": "0lhJ9DjjGUwU",
        "outputId": "52c885aa-a777-4502-cf3f-e0e3dca33bba"
      },
      "source": [
        "print(df_train.isnull().any(),df_test.isnull().any())"
      ],
      "execution_count": null,
      "outputs": [
        {
          "output_type": "stream",
          "text": [
            "clean text    False\n",
            "sentiment     False\n",
            "dtype: bool clean text    False\n",
            "sentiment     False\n",
            "dtype: bool\n"
          ],
          "name": "stdout"
        }
      ]
    },
    {
      "cell_type": "code",
      "metadata": {
        "id": "ZgBsqmzhFevj",
        "colab": {
          "base_uri": "https://localhost:8080/"
        },
        "outputId": "c8098efb-58c1-4c94-8fc3-68e68f7bebaa"
      },
      "source": [
        "df_train.shape,df_test.shape"
      ],
      "execution_count": null,
      "outputs": [
        {
          "output_type": "execute_result",
          "data": {
            "text/plain": [
              "((16000, 2), (2000, 2))"
            ]
          },
          "metadata": {
            "tags": []
          },
          "execution_count": 30
        }
      ]
    },
    {
      "cell_type": "code",
      "metadata": {
        "colab": {
          "base_uri": "https://localhost:8080/"
        },
        "id": "ULQ09xknAI8w",
        "outputId": "0992acc3-b4ff-44bd-97c2-03b11e35dd9e"
      },
      "source": [
        "#remove duplicate values\n",
        "df_train.drop_duplicates(keep=False,inplace=True)\n",
        "df_test.drop_duplicates(keep=False,inplace=True)\n",
        "df_train.shape,df_test.shape"
      ],
      "execution_count": null,
      "outputs": [
        {
          "output_type": "execute_result",
          "data": {
            "text/plain": [
              "((15861, 2), (1998, 2))"
            ]
          },
          "metadata": {
            "tags": []
          },
          "execution_count": 31
        }
      ]
    },
    {
      "cell_type": "code",
      "metadata": {
        "colab": {
          "base_uri": "https://localhost:8080/"
        },
        "id": "BbdhCMt9Gm6V",
        "outputId": "8d3cd7ec-429a-425f-e316-cff622829889"
      },
      "source": [
        "from sklearn.preprocessing import LabelEncoder\n",
        "le = LabelEncoder()\n",
        "df_train.sentiment= le.fit_transform(df_train.sentiment.values)\n",
        "df_test.sentiment= le.fit_transform(df_test.sentiment.values)\n",
        "df_train.head()\n",
        "df_train.sentiment.unique()"
      ],
      "execution_count": null,
      "outputs": [
        {
          "output_type": "execute_result",
          "data": {
            "text/plain": [
              "array([4, 0, 3, 5, 1, 2])"
            ]
          },
          "metadata": {
            "tags": []
          },
          "execution_count": 32
        }
      ]
    },
    {
      "cell_type": "markdown",
      "metadata": {
        "id": "DJvAJvukOexy"
      },
      "source": [
        "### Length of Tweets"
      ]
    },
    {
      "cell_type": "code",
      "metadata": {
        "colab": {
          "base_uri": "https://localhost:8080/",
          "height": 355
        },
        "id": "d4APzdRuOSry",
        "outputId": "3fa81e65-3fe4-407c-f51a-f8bbe82d8ef1"
      },
      "source": [
        "def create_len_df(dataset):\n",
        "    return dataset.apply(lambda row: pd.Series({\n",
        "                                               'length_text':len(row['clean text'])}), axis=1)\n",
        "len_train = create_len_df(df_train)\n",
        "len_value=len_train.values\n",
        "import seaborn as sns\n",
        "sns.set_style('darkgrid')\n",
        "fig,(ax1)=plt.subplots(1,1,figsize=(10,5))\n",
        "#ax1.hist(len_value,color='orangered')\n",
        "ax1.hist(len_value,color='darkgreen')\n",
        "ax1.set_title('Length of Tweets')"
      ],
      "execution_count": null,
      "outputs": [
        {
          "output_type": "execute_result",
          "data": {
            "text/plain": [
              "Text(0.5, 1.0, 'Length of Tweets')"
            ]
          },
          "metadata": {
            "tags": []
          },
          "execution_count": 34
        },
        {
          "output_type": "display_data",
          "data": {
            "image/png": "[encoded data removed]",
            "text/plain": [
              "<Figure size 720x360 with 1 Axes>"
            ]
          },
          "metadata": {
            "tags": []
          }
        }
      ]
    },
    {
      "cell_type": "markdown",
      "metadata": {
        "id": "4yjdZ8SaKRR3"
      },
      "source": [
        "### Number of characters in texts"
      ]
    },
    {
      "cell_type": "code",
      "metadata": {
        "colab": {
          "base_uri": "https://localhost:8080/",
          "height": 358
        },
        "id": "s3cYjQBIAI5d",
        "outputId": "b32ec093-73bd-4788-f4a0-d1a382f9618e"
      },
      "source": [
        "fig,(ax1,ax2,ax3,ax4,ax5,ax6)=plt.subplots(1,6,figsize=(20,5))\n",
        "text_len=df_train[df_train['sentiment']==0]['clean text'].str.len()\n",
        "ax1.hist(text_len,color='darkgoldenrod')\n",
        "ax1.set_title('Class 0')\n",
        "\n",
        "text_len=df_train[df_train['sentiment']==1]['clean text'].str.len()\n",
        "ax2.hist(text_len,color='peru')\n",
        "ax2.set_title('CLass 1' )\n",
        "\n",
        "text_len=df_train[df_train['sentiment']==2]['clean text'].str.len()\n",
        "ax3.hist(text_len,color='tomato')\n",
        "ax3.set_title('CLass 2 ')\n",
        "\n",
        "text_len=df_train[df_train['sentiment']==3]['clean text'].str.len()\n",
        "ax4.hist(text_len,color='teal')\n",
        "ax4.set_title('CLass 3 ')\n",
        "\n",
        "text_len=df_train[df_train['sentiment']==4]['clean text'].str.len()\n",
        "ax5.hist(text_len,color='r')\n",
        "ax5.set_title('CLass 4 ')\n",
        "\n",
        "text_len=df_train[df_train['sentiment']==5]['clean text'].str.len()\n",
        "ax6.hist(text_len,color='indigo')\n",
        "ax6.set_title('CLass 5 ')\n",
        "fig.suptitle('Characters in texts')\n",
        "plt.show()"
      ],
      "execution_count": null,
      "outputs": [
        {
          "output_type": "display_data",
          "data": {
            "image/png": "[encoded data removed]",
            "text/plain": [
              "<Figure size 1440x360 with 6 Axes>"
            ]
          },
          "metadata": {
            "tags": []
          }
        }
      ]
    },
    {
      "cell_type": "code",
      "metadata": {
        "colab": {
          "base_uri": "https://localhost:8080/"
        },
        "id": "5T_4VsStAHHE",
        "outputId": "f30cf6b2-c5d7-4a1a-c292-2651893237d1"
      },
      "source": [
        "def get_corpus(text):\n",
        "    words = []\n",
        "    for i in text:\n",
        "        for j in i.split():\n",
        "            words.append(j.strip())\n",
        "    return words\n",
        "corpus = get_corpus(df_train['clean text'])\n",
        "\n",
        "from collections import Counter\n",
        "counter = Counter(corpus)\n",
        "most_common = counter.most_common(15)\n",
        "most_common = dict(most_common)\n",
        "most_common"
      ],
      "execution_count": 55,
      "outputs": [
        {
          "output_type": "execute_result",
          "data": {
            "text/plain": [
              "{'day': 673,\n",
              " 'feel': 11394,\n",
              " 'feeling': 5428,\n",
              " 'get': 778,\n",
              " 'im': 2415,\n",
              " 'know': 872,\n",
              " 'like': 2914,\n",
              " 'little': 731,\n",
              " 'make': 769,\n",
              " 'not': 1827,\n",
              " 'people': 664,\n",
              " 'really': 942,\n",
              " 'thing': 672,\n",
              " 'time': 974,\n",
              " 'want': 681}"
            ]
          },
          "metadata": {
            "tags": []
          },
          "execution_count": 55
        }
      ]
    },
    {
      "cell_type": "markdown",
      "metadata": {
        "id": "AnnULA6On-i_"
      },
      "source": [
        "## Model"
      ]
    },
    {
      "cell_type": "code",
      "metadata": {
        "id": "RfY6lhQVQ7x-"
      },
      "source": [
        "from keras.layers import Dropout, Dense,Input,Embedding,Flatten, MaxPooling1D, Conv1D\n",
        "from keras.models import Sequential,Model\n",
        "from sklearn.feature_extraction.text import TfidfVectorizer\n",
        "import numpy as np\n",
        "from sklearn import metrics\n",
        "from keras.preprocessing.text import Tokenizer\n",
        "from keras.preprocessing.sequence import pad_sequences\n",
        "from sklearn.datasets import fetch_20newsgroups\n",
        "from keras.layers.merge import Concatenate"
      ],
      "execution_count": null,
      "outputs": []
    },
    {
      "cell_type": "code",
      "metadata": {
        "id": "8vLMwRq7Pn2L"
      },
      "source": [
        "#convert text to word embedding (Using GloVe):\n",
        "def loadData_Tokenizer(X_train, X_test,MAX_NB_WORDS=75000,MAX_SEQUENCE_LENGTH=500):\n",
        "    np.random.seed(7)\n",
        "    text = np.concatenate((X_train, X_test), axis=0)\n",
        "    text = np.array(text)\n",
        "    tokenizer = Tokenizer(num_words=MAX_NB_WORDS)\n",
        "    tokenizer.fit_on_texts(text)\n",
        "    sequences = tokenizer.texts_to_sequences(text)\n",
        "    word_index = tokenizer.word_index\n",
        "    text = pad_sequences(sequences, maxlen=MAX_SEQUENCE_LENGTH)\n",
        "    print('Found %s unique tokens.' % len(word_index))\n",
        "    indices = np.arange(text.shape[0])\n",
        "    # np.random.shuffle(indices)\n",
        "    text = text[indices]\n",
        "    print(text.shape)\n",
        "    X_train = text[0:len(X_train), ]\n",
        "    X_test = text[len(X_train):, ]\n",
        "    embeddings_index = {}\n",
        "    f = open('/content/gdrive/MyDrive/NLP projects/pre-trained-embedding/glov/glove.6B.300d.txt', encoding=\"utf8\")\n",
        "    for line in f:\n",
        "        values = line.split()\n",
        "        word = values[0]\n",
        "        try:\n",
        "            coefs = np.asarray(values[1:], dtype='float32')\n",
        "        except:\n",
        "            pass\n",
        "        embeddings_index[word] = coefs\n",
        "    f.close()\n",
        "    print('Total %s word vectors.' % len(embeddings_index))\n",
        "    return (X_train, X_test, word_index,embeddings_index)"
      ],
      "execution_count": null,
      "outputs": []
    },
    {
      "cell_type": "code",
      "metadata": {
        "id": "mj28SYObURlD"
      },
      "source": [
        "def Build_Model_CNN_Text(word_index, embeddings_index, nclasses, MAX_SEQUENCE_LENGTH=500, EMBEDDING_DIM=300, dropout=0.5):\n",
        "    model = Sequential()\n",
        "    embedding_matrix = np.random.random((len(word_index) + 1, EMBEDDING_DIM))\n",
        "    for word, i in word_index.items():\n",
        "        embedding_vector = embeddings_index.get(word)\n",
        "        if embedding_vector is not None:\n",
        "            # words not found in embedding index will be all-zeros.\n",
        "            if len(embedding_matrix[i]) !=len(embedding_vector):\n",
        "                print(\"could not broadcast input array from shape\",str(len(embedding_matrix[i])),\n",
        "                                 \"into shape\",str(len(embedding_vector)),\" Please make sure your\"\n",
        "                                 \" EMBEDDING_DIM is equal to embedding_vector file ,GloVe,\")\n",
        "                exit(1)\n",
        "            embedding_matrix[i] = embedding_vector\n",
        "    embedding_layer = Embedding(len(word_index) + 1,\n",
        "                                EMBEDDING_DIM,\n",
        "                                weights=[embedding_matrix],\n",
        "                                input_length=MAX_SEQUENCE_LENGTH,\n",
        "                                trainable=True)\n",
        "    # applying a more complex convolutional approach\n",
        "    convs = []\n",
        "    filter_sizes = []\n",
        "    layer = 5\n",
        "    print(\"Filter  \",layer)\n",
        "    for fl in range(0,layer):\n",
        "        filter_sizes.append((fl+2))\n",
        "\n",
        "    node = 128\n",
        "    sequence_input = Input(shape=(MAX_SEQUENCE_LENGTH,), dtype='int32')\n",
        "    embedded_sequences = embedding_layer(sequence_input)\n",
        "\n",
        "    for fsz in filter_sizes:\n",
        "        l_conv = Conv1D(node, kernel_size=fsz, activation='relu')(embedded_sequences)\n",
        "        l_pool = MaxPooling1D(5)(l_conv)\n",
        "        #l_pool = Dropout(0.25)(l_pool)\n",
        "        convs.append(l_pool)\n",
        "\n",
        "    l_merge = Concatenate(axis=1)(convs)\n",
        "    l_cov1 = Conv1D(node, 5, activation='relu')(l_merge)\n",
        "    l_cov1 = Dropout(dropout)(l_cov1)\n",
        "    l_pool1 = MaxPooling1D(5)(l_cov1)\n",
        "    l_cov2 = Conv1D(node, 5, activation='relu')(l_pool1)\n",
        "    l_cov2 = Dropout(dropout)(l_cov2)\n",
        "    l_pool2 = MaxPooling1D(30)(l_cov2)\n",
        "    l_flat = Flatten()(l_pool2)\n",
        "    l_dense = Dense(1024, activation='relu')(l_flat)\n",
        "    l_dense = Dropout(dropout)(l_dense)\n",
        "    l_dense = Dense(512, activation='relu')(l_dense)\n",
        "    l_dense = Dropout(dropout)(l_dense)\n",
        "    preds = Dense(nclasses, activation='softmax')(l_dense)\n",
        "    model = Model(sequence_input, preds)\n",
        "\n",
        "    model.compile(loss='sparse_categorical_crossentropy',\n",
        "                  optimizer='adam',\n",
        "                  metrics=['accuracy'])\n",
        "\n",
        "    return model"
      ],
      "execution_count": null,
      "outputs": []
    },
    {
      "cell_type": "code",
      "metadata": {
        "colab": {
          "base_uri": "https://localhost:8080/"
        },
        "id": "hjuege3PURgx",
        "outputId": "1cab0eda-348a-400f-eb1d-8ed736f4c1d2"
      },
      "source": [
        "X_train = df_train['clean text']\n",
        "X_test = df_test['clean text']\n",
        "y_train = df_train['sentiment']\n",
        "y_test = df_test['sentiment']\n",
        "\n",
        "X_train_Glove,X_test_Glove, word_index,embeddings_index = loadData_Tokenizer(X_train,X_test)\n",
        "\n",
        "model_CNN = Build_Model_CNN_Text(word_index,embeddings_index, 6)\n",
        "\n",
        "model_CNN.summary()\n",
        "\n",
        "history=model_CNN.fit(X_train_Glove, y_train,\n",
        "                              validation_data=(X_test_Glove, y_test),\n",
        "                              epochs=15,\n",
        "                              batch_size=32,\n",
        "                              verbose=2)"
      ],
      "execution_count": null,
      "outputs": [
        {
          "output_type": "stream",
          "text": [
            "Found 14323 unique tokens.\n",
            "(17859, 500)\n",
            "Total 400001 word vectors.\n",
            "Filter   5\n",
            "Model: \"model_6\"\n",
            "__________________________________________________________________________________________________\n",
            "Layer (type)                    Output Shape         Param #     Connected to                     \n",
            "==================================================================================================\n",
            "input_7 (InputLayer)            [(None, 500)]        0                                            \n",
            "__________________________________________________________________________________________________\n",
            "embedding_6 (Embedding)         (None, 500, 300)     4297200     input_7[0][0]                    \n",
            "__________________________________________________________________________________________________\n",
            "conv1d_42 (Conv1D)              (None, 499, 128)     76928       embedding_6[0][0]                \n",
            "__________________________________________________________________________________________________\n",
            "conv1d_43 (Conv1D)              (None, 498, 128)     115328      embedding_6[0][0]                \n",
            "__________________________________________________________________________________________________\n",
            "conv1d_44 (Conv1D)              (None, 497, 128)     153728      embedding_6[0][0]                \n",
            "__________________________________________________________________________________________________\n",
            "conv1d_45 (Conv1D)              (None, 496, 128)     192128      embedding_6[0][0]                \n",
            "__________________________________________________________________________________________________\n",
            "conv1d_46 (Conv1D)              (None, 495, 128)     230528      embedding_6[0][0]                \n",
            "__________________________________________________________________________________________________\n",
            "max_pooling1d_42 (MaxPooling1D) (None, 99, 128)      0           conv1d_42[0][0]                  \n",
            "__________________________________________________________________________________________________\n",
            "max_pooling1d_43 (MaxPooling1D) (None, 99, 128)      0           conv1d_43[0][0]                  \n",
            "__________________________________________________________________________________________________\n",
            "max_pooling1d_44 (MaxPooling1D) (None, 99, 128)      0           conv1d_44[0][0]                  \n",
            "__________________________________________________________________________________________________\n",
            "max_pooling1d_45 (MaxPooling1D) (None, 99, 128)      0           conv1d_45[0][0]                  \n",
            "__________________________________________________________________________________________________\n",
            "max_pooling1d_46 (MaxPooling1D) (None, 99, 128)      0           conv1d_46[0][0]                  \n",
            "__________________________________________________________________________________________________\n",
            "concatenate_6 (Concatenate)     (None, 495, 128)     0           max_pooling1d_42[0][0]           \n",
            "                                                                 max_pooling1d_43[0][0]           \n",
            "                                                                 max_pooling1d_44[0][0]           \n",
            "                                                                 max_pooling1d_45[0][0]           \n",
            "                                                                 max_pooling1d_46[0][0]           \n",
            "__________________________________________________________________________________________________\n",
            "conv1d_47 (Conv1D)              (None, 491, 128)     82048       concatenate_6[0][0]              \n",
            "__________________________________________________________________________________________________\n",
            "dropout_20 (Dropout)            (None, 491, 128)     0           conv1d_47[0][0]                  \n",
            "__________________________________________________________________________________________________\n",
            "max_pooling1d_47 (MaxPooling1D) (None, 98, 128)      0           dropout_20[0][0]                 \n",
            "__________________________________________________________________________________________________\n",
            "conv1d_48 (Conv1D)              (None, 94, 128)      82048       max_pooling1d_47[0][0]           \n",
            "__________________________________________________________________________________________________\n",
            "dropout_21 (Dropout)            (None, 94, 128)      0           conv1d_48[0][0]                  \n",
            "__________________________________________________________________________________________________\n",
            "max_pooling1d_48 (MaxPooling1D) (None, 3, 128)       0           dropout_21[0][0]                 \n",
            "__________________________________________________________________________________________________\n",
            "flatten_6 (Flatten)             (None, 384)          0           max_pooling1d_48[0][0]           \n",
            "__________________________________________________________________________________________________\n",
            "dense_18 (Dense)                (None, 1024)         394240      flatten_6[0][0]                  \n",
            "__________________________________________________________________________________________________\n",
            "dropout_22 (Dropout)            (None, 1024)         0           dense_18[0][0]                   \n",
            "__________________________________________________________________________________________________\n",
            "dense_19 (Dense)                (None, 512)          524800      dropout_22[0][0]                 \n",
            "__________________________________________________________________________________________________\n",
            "dropout_23 (Dropout)            (None, 512)          0           dense_19[0][0]                   \n",
            "__________________________________________________________________________________________________\n",
            "dense_20 (Dense)                (None, 6)            3078        dropout_23[0][0]                 \n",
            "==================================================================================================\n",
            "Total params: 6,152,054\n",
            "Trainable params: 6,152,054\n",
            "Non-trainable params: 0\n",
            "__________________________________________________________________________________________________\n",
            "Epoch 1/15\n",
            "496/496 - 35s - loss: 1.6259 - accuracy: 0.3259 - val_loss: 1.5748 - val_accuracy: 0.3589\n",
            "Epoch 2/15\n",
            "496/496 - 33s - loss: 1.2299 - accuracy: 0.5201 - val_loss: 0.9337 - val_accuracy: 0.6101\n",
            "Epoch 3/15\n",
            "496/496 - 33s - loss: 0.7897 - accuracy: 0.6799 - val_loss: 0.6837 - val_accuracy: 0.7598\n",
            "Epoch 4/15\n",
            "496/496 - 33s - loss: 0.5409 - accuracy: 0.7941 - val_loss: 0.6145 - val_accuracy: 0.7778\n",
            "Epoch 5/15\n",
            "496/496 - 33s - loss: 0.4349 - accuracy: 0.8389 - val_loss: 0.5732 - val_accuracy: 0.7823\n",
            "Epoch 6/15\n",
            "496/496 - 33s - loss: 0.3778 - accuracy: 0.8636 - val_loss: 0.5744 - val_accuracy: 0.7938\n",
            "Epoch 7/15\n",
            "496/496 - 33s - loss: 0.3224 - accuracy: 0.8805 - val_loss: 0.6088 - val_accuracy: 0.7928\n",
            "Epoch 8/15\n",
            "496/496 - 33s - loss: 0.3034 - accuracy: 0.8883 - val_loss: 0.6322 - val_accuracy: 0.7848\n",
            "Epoch 9/15\n",
            "496/496 - 33s - loss: 0.2737 - accuracy: 0.8992 - val_loss: 0.6384 - val_accuracy: 0.7953\n",
            "Epoch 10/15\n",
            "496/496 - 33s - loss: 0.2526 - accuracy: 0.9084 - val_loss: 0.6500 - val_accuracy: 0.7948\n",
            "Epoch 11/15\n",
            "496/496 - 33s - loss: 0.2446 - accuracy: 0.9119 - val_loss: 0.7245 - val_accuracy: 0.7963\n",
            "Epoch 12/15\n",
            "496/496 - 33s - loss: 0.2317 - accuracy: 0.9164 - val_loss: 0.6676 - val_accuracy: 0.8013\n",
            "Epoch 13/15\n",
            "496/496 - 33s - loss: 0.2329 - accuracy: 0.9184 - val_loss: 0.7626 - val_accuracy: 0.7968\n",
            "Epoch 14/15\n",
            "496/496 - 32s - loss: 0.2143 - accuracy: 0.9234 - val_loss: 0.8029 - val_accuracy: 0.7928\n",
            "Epoch 15/15\n",
            "496/496 - 33s - loss: 0.2050 - accuracy: 0.9264 - val_loss: 0.6819 - val_accuracy: 0.7993\n"
          ],
          "name": "stdout"
        }
      ]
    },
    {
      "cell_type": "code",
      "metadata": {
        "colab": {
          "base_uri": "https://localhost:8080/",
          "height": 319
        },
        "id": "ofcazNAejAmc",
        "outputId": "1131b994-49c1-4282-97e1-c3a507d179a5"
      },
      "source": [
        "import matplotlib.pyplot as plt\n",
        "import numpy\n",
        "print(history.history.keys())\n",
        "# summarize history for accuracy\n",
        "plt.plot(history.history['accuracy'])\n",
        "plt.plot(history.history['val_accuracy'])\n",
        "plt.title('model accuracy')\n",
        "plt.ylabel('accuracy')\n",
        "plt.xlabel('epoch')\n",
        "plt.legend(['train', 'test'], loc='upper left')\n",
        "plt.show()"
      ],
      "execution_count": null,
      "outputs": [
        {
          "output_type": "stream",
          "text": [
            "dict_keys(['loss', 'accuracy', 'val_loss', 'val_accuracy'])\n"
          ],
          "name": "stdout"
        },
        {
          "output_type": "display_data",
          "data": {
            "image/png": "[encoded data removed]",
            "text/plain": [
              "<Figure size 432x288 with 1 Axes>"
            ]
          },
          "metadata": {
            "tags": []
          }
        }
      ]
    },
    {
      "cell_type": "code",
      "metadata": {
        "colab": {
          "base_uri": "https://localhost:8080/"
        },
        "id": "3A_bVUuVnypO",
        "outputId": "bddfc3b5-a1d9-4669-fadf-7bd20be630ab"
      },
      "source": [
        "predicted = model_CNN.predict(X_test_Glove)\n",
        "predicted = np.argmax(predicted, axis=1)\n",
        "print(metrics.classification_report(y_test, predicted))"
      ],
      "execution_count": null,
      "outputs": [
        {
          "output_type": "stream",
          "text": [
            "              precision    recall  f1-score   support\n",
            "\n",
            "           0       0.90      0.76      0.82       275\n",
            "           1       0.81      0.67      0.73       224\n",
            "           2       0.86      0.83      0.85       695\n",
            "           3       0.81      0.67      0.73       159\n",
            "           4       0.72      0.90      0.80       579\n",
            "           5       0.61      0.55      0.58        66\n",
            "\n",
            "    accuracy                           0.80      1998\n",
            "   macro avg       0.79      0.73      0.75      1998\n",
            "weighted avg       0.81      0.80      0.80      1998\n",
            "\n"
          ],
          "name": "stdout"
        }
      ]
    },
    {
      "cell_type": "code",
      "metadata": {
        "id": "7xuEv99KURaz"
      },
      "source": [
        "def plot_confusion_matrix(cm, classes,\n",
        "                          title='Confusion matrix',\n",
        "                          cmap=plt.cm.Blues):\n",
        "    \n",
        "    cm = cm.astype('float') / cm.sum(axis=1)[:, np.newaxis]\n",
        "\n",
        "    plt.imshow(cm, interpolation='nearest', cmap=cmap)\n",
        "    plt.title(title, fontsize=20)\n",
        "    plt.colorbar()\n",
        "    tick_marks = np.arange(len(classes))\n",
        "    plt.xticks(tick_marks, classes, rotation=90, fontsize=15)\n",
        "    plt.yticks(tick_marks, classes, fontsize=15)\n",
        "\n",
        "    fmt = '.2f'\n",
        "    thresh = cm.max() / 2.\n",
        "    for i, j in itertools.product(range(cm.shape[0]), range(cm.shape[1])):\n",
        "        plt.text(j, i, format(cm[i, j], fmt),\n",
        "                  horizontalalignment=\"center\",\n",
        "                  color=\"white\" if cm[i, j] > thresh else \"black\")\n",
        "\n",
        "    plt.ylabel('True label', fontsize=12)\n",
        "    plt.xlabel('Predicted label', fontsize=12)\n"
      ],
      "execution_count": null,
      "outputs": []
    },
    {
      "cell_type": "code",
      "metadata": {
        "colab": {
          "base_uri": "https://localhost:8080/",
          "height": 472
        },
        "id": "sJbHSSg6URXR",
        "outputId": "e40b6ae2-899d-4e53-c083-15f43caffcdd"
      },
      "source": [
        "from sklearn.metrics import confusion_matrix\n",
        "import itertools\n",
        "#cm = confusion_matrix(y_test, y_pred)\n",
        "cm =confusion_matrix(predicted, y_test)\n",
        "\n",
        "cnf_matrix = confusion_matrix(predicted, y_test)\n",
        "plt.figure(figsize=(8,8))\n",
        "plot_confusion_matrix(cnf_matrix, classes=df_train.sentiment.unique(), title=\"Confusion matrix\")\n",
        "plt.show()"
      ],
      "execution_count": null,
      "outputs": [
        {
          "output_type": "display_data",
          "data": {
            "image/png": "[encoded data removed]",
            "text/plain": [
              "<Figure size 576x576 with 2 Axes>"
            ]
          },
          "metadata": {
            "tags": []
          }
        }
      ]
    },
    {
      "cell_type": "code",
      "metadata": {
        "id": "1Pkv_F6guU6v"
      },
      "source": [
        ""
      ],
      "execution_count": null,
      "outputs": []
    }
  ]
}